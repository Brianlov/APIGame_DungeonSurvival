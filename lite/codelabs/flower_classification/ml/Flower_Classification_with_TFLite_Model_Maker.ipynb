{
  "cells": [
    {
      "cell_type": "markdown",
      "metadata": {
        "id": "h2q27gKz1H20"
      },
      "source": [
        "##### Copyright 2020 The TensorFlow Authors."
      ]
    },
    {
      "cell_type": "code",
      "execution_count": null,
      "metadata": {
        "cellView": "form",
        "id": "TUfAcER1oUS6"
      },
      "outputs": [],
      "source": [
        "#@title Licensed under the Apache License, Version 2.0 (the \"License\");\n",
        "# you may not use this file except in compliance with the License.\n",
        "# You may obtain a copy of the License at\n",
        "#\n",
        "# https://www.apache.org/licenses/LICENSE-2.0\n",
        "#\n",
        "# Unless required by applicable law or agreed to in writing, software\n",
        "# distributed under the License is distributed on an \"AS IS\" BASIS,\n",
        "# WITHOUT WARRANTIES OR CONDITIONS OF ANY KIND, either express or implied.\n",
        "# See the License for the specific language governing permissions and\n",
        "# limitations under the License."
      ]
    },
    {
      "cell_type": "markdown",
      "metadata": {
        "id": "Gb7qyhNL1yWt"
      },
      "source": [
        "# Flower classification with TensorFlow Lite Model Maker with TensorFlow 2.0"
      ]
    },
    {
      "cell_type": "markdown",
      "metadata": {
        "id": "nDABAblytltI"
      },
      "source": [
        "<table class=\"tfo-notebook-buttons\" align=\"left\">\n",
        "  <td>\n",
        "    <a target=\"_blank\" href=\"https://colab.research.google.com/github/tensorflow/examples/blob/master/lite/codelabs/flower_classification/ml/Flower_Classification_with_TFLite_Model_Maker.ipynb\">      \n",
        "    <img src=\"https://www.tensorflow.org/images/colab_logo_32px.png\" />\n",
        "    Run in Google Colab</a>\n",
        "  </td>\n",
        "  <td>\n",
        "    <a target=\"_blank\" href=\"https://github.com/tensorflow/examples/blob/master/lite/codelabs/flower_classification/ml/Flower_Classification_with_TFLite_Model_Maker.ipynb\">\n",
        "    <img src=\"https://www.tensorflow.org/images/GitHub-Mark-32px.png\" />\n",
        "    View source on GitHub</a>\n",
        "  </td>\n",
        "</table>"
      ]
    },
    {
      "cell_type": "markdown",
      "metadata": {
        "id": "m86-Nh4pMHqY"
      },
      "source": [
        "Model Maker library simplifies the process of adapting and converting a TensorFlow neural-network model to particular input data when deploying this model for on-device ML applications.\n",
        "\n",
        "This notebook shows an end-to-end example that utilizes this Model Maker library to illustrate the adaption and conversion of a commonly-used image classification model to classify flowers on a mobile device."
      ]
    },
    {
      "cell_type": "markdown",
      "metadata": {
        "id": "bcLF2PKkSbV3"
      },
      "source": [
        "## Prerequisites\n",
        "\n",
        "To run this example, we first need to install serveral required packages, including Model Maker package that in github [repo](https://github.com/tensorflow/examples/tree/master/tensorflow_examples/lite/model_maker)."
      ]
    },
    {
      "cell_type": "code",
      "source": [
        "!pip install pip==24.0.1 --user"
      ],
      "metadata": {
        "id": "iE_LGuICpY2_",
        "outputId": "3a4c8025-953b-45ce-bfc0-1bc421d8a88a",
        "colab": {
          "base_uri": "https://localhost:8080/"
        }
      },
      "execution_count": 14,
      "outputs": [
        {
          "output_type": "stream",
          "name": "stdout",
          "text": [
            "Collecting pip==23.0.1\n",
            "  Downloading pip-23.0.1-py3-none-any.whl (2.1 MB)\n",
            "\u001b[?25l     \u001b[90m━━━━━━━━━━━━━━━━━━━━━━━━━━━━━━━━━━━━━━━━\u001b[0m \u001b[32m0.0/2.1 MB\u001b[0m \u001b[31m?\u001b[0m eta \u001b[36m-:--:--\u001b[0m\r\u001b[2K     \u001b[91m━━━━\u001b[0m\u001b[90m╺\u001b[0m\u001b[90m━━━━━━━━━━━━━━━━━━━━━━━━━━━━━━━━━━━\u001b[0m \u001b[32m0.2/2.1 MB\u001b[0m \u001b[31m6.5 MB/s\u001b[0m eta \u001b[36m0:00:01\u001b[0m\r\u001b[2K     \u001b[91m━━━━━━━━━━━━━━━━━━━━━━━━━━━━━━━━━━━━━━━\u001b[0m\u001b[91m╸\u001b[0m \u001b[32m2.0/2.1 MB\u001b[0m \u001b[31m37.9 MB/s\u001b[0m eta \u001b[36m0:00:01\u001b[0m\r\u001b[2K     \u001b[90m━━━━━━━━━━━━━━━━━━━━━━━━━━━━━━━━━━━━━━━━\u001b[0m \u001b[32m2.1/2.1 MB\u001b[0m \u001b[31m28.4 MB/s\u001b[0m eta \u001b[36m0:00:00\u001b[0m\n",
            "\u001b[?25hInstalling collected packages: pip\n",
            "  Attempting uninstall: pip\n",
            "    Found existing installation: pip 22.0.1\n",
            "    Uninstalling pip-22.0.1:\n",
            "      Successfully uninstalled pip-22.0.1\n",
            "\u001b[33m  WARNING: The scripts pip, pip3 and pip3.10 are installed in '/root/.local/bin' which is not on PATH.\n",
            "  Consider adding this directory to PATH or, if you prefer to suppress this warning, use --no-warn-script-location.\u001b[0m\u001b[33m\n",
            "\u001b[0mSuccessfully installed pip-23.0.1\n",
            "\u001b[33mWARNING: Running pip as the 'root' user can result in broken permissions and conflicting behaviour with the system package manager. It is recommended to use a virtual environment instead: https://pip.pypa.io/warnings/venv\u001b[0m\u001b[33m\n",
            "\u001b[0m"
          ]
        }
      ]
    },
    {
      "cell_type": "code",
      "execution_count": 2,
      "metadata": {
        "id": "6cv3K3oaksJv",
        "outputId": "0e9d998e-664e-4d71-c28a-96b5df58169a",
        "colab": {
          "base_uri": "https://localhost:8080/"
        }
      },
      "outputs": [
        {
          "output_type": "stream",
          "name": "stdout",
          "text": [
            "Collecting git+https://github.com/tensorflow/examples.git\n",
            "  Cloning https://github.com/tensorflow/examples.git to /tmp/pip-req-build-fxksots9\n",
            "  Running command git clone --filter=blob:none --quiet https://github.com/tensorflow/examples.git /tmp/pip-req-build-fxksots9\n",
            "  Resolved https://github.com/tensorflow/examples.git to commit 9084c2efc4837ecaa2544b43ea2f3c26b593dde4\n",
            "  Preparing metadata (setup.py) ... \u001b[?25l\u001b[?25hdone\n",
            "Requirement already satisfied: absl-py in /usr/local/lib/python3.10/dist-packages (from tensorflow-examples==0.1727910282.825055350737006839036646584288485110499677298148) (1.4.0)\n",
            "Requirement already satisfied: six in /usr/local/lib/python3.10/dist-packages (from tensorflow-examples==0.1727910282.825055350737006839036646584288485110499677298148) (1.16.0)\n",
            "Building wheels for collected packages: tensorflow-examples\n",
            "  Building wheel for tensorflow-examples (setup.py) ... \u001b[?25l\u001b[?25hdone\n",
            "  Created wheel for tensorflow-examples: filename=tensorflow_examples-0.1727910282.825055350737006839036646584288485110499677298148-py3-none-any.whl size=301603 sha256=0a552a5980c2f5b35272713bb75f28cf6f8606a1c1d3ca5ee2b446dbbcd20fc5\n",
            "  Stored in directory: /tmp/pip-ephem-wheel-cache-tkk6pqwa/wheels/72/5f/d0/7fe769eaa229bf20101d11a357eb23c83c481bee2d7f710599\n",
            "Successfully built tensorflow-examples\n",
            "Installing collected packages: tensorflow-examples\n",
            "Successfully installed tensorflow-examples-0.1727910282.825055350737006839036646584288485110499677298148\n"
          ]
        }
      ],
      "source": [
        "!pip install git+https://github.com/tensorflow/examples.git"
      ]
    },
    {
      "cell_type": "code",
      "source": [
        "!pip install -q tflite-model-maker\n"
      ],
      "metadata": {
        "id": "69IHZJ8aoS0D",
        "outputId": "8c3c26b0-ca74-496e-e890-bfec8bb556b5",
        "colab": {
          "base_uri": "https://localhost:8080/"
        }
      },
      "execution_count": 12,
      "outputs": [
        {
          "output_type": "stream",
          "name": "stdout",
          "text": [
            "\u001b[?25l\r\u001b[K     |▋                               | 10 kB 24.6 MB/s eta 0:00:01\r\u001b[K     |█▏                              | 20 kB 1.9 MB/s eta 0:00:01\r\u001b[K     |█▊                              | 30 kB 2.7 MB/s eta 0:00:01\r\u001b[K     |██▎                             | 40 kB 2.8 MB/s eta 0:00:01\r\u001b[K     |██▉                             | 51 kB 3.0 MB/s eta 0:00:01\r\u001b[K     |███▍                            | 61 kB 3.5 MB/s eta 0:00:01\r\u001b[K     |████                            | 71 kB 3.8 MB/s eta 0:00:01\r\u001b[K     |████▌                           | 81 kB 4.3 MB/s eta 0:00:01\r\u001b[K     |█████                           | 92 kB 4.5 MB/s eta 0:00:01\r\u001b[K     |█████▋                          | 102 kB 4.5 MB/s eta 0:00:01\r\u001b[K     |██████▏                         | 112 kB 4.5 MB/s eta 0:00:01\r\u001b[K     |██████▉                         | 122 kB 4.5 MB/s eta 0:00:01\r\u001b[K     |███████▍                        | 133 kB 4.5 MB/s eta 0:00:01\r\u001b[K     |████████                        | 143 kB 4.5 MB/s eta 0:00:01\r\u001b[K     |████████▌                       | 153 kB 4.5 MB/s eta 0:00:01\r\u001b[K     |█████████                       | 163 kB 4.5 MB/s eta 0:00:01\r\u001b[K     |█████████▋                      | 174 kB 4.5 MB/s eta 0:00:01\r\u001b[K     |██████████▏                     | 184 kB 4.5 MB/s eta 0:00:01\r\u001b[K     |██████████▊                     | 194 kB 4.5 MB/s eta 0:00:01\r\u001b[K     |███████████▎                    | 204 kB 4.5 MB/s eta 0:00:01\r\u001b[K     |███████████▉                    | 215 kB 4.5 MB/s eta 0:00:01\r\u001b[K     |████████████▍                   | 225 kB 4.5 MB/s eta 0:00:01\r\u001b[K     |█████████████                   | 235 kB 4.5 MB/s eta 0:00:01\r\u001b[K     |█████████████▋                  | 245 kB 4.5 MB/s eta 0:00:01\r\u001b[K     |██████████████▏                 | 256 kB 4.5 MB/s eta 0:00:01\r\u001b[K     |██████████████▊                 | 266 kB 4.5 MB/s eta 0:00:01\r\u001b[K     |███████████████▎                | 276 kB 4.5 MB/s eta 0:00:01\r\u001b[K     |███████████████▉                | 286 kB 4.5 MB/s eta 0:00:01\r\u001b[K     |████████████████▍               | 296 kB 4.5 MB/s eta 0:00:01\r\u001b[K     |█████████████████               | 307 kB 4.5 MB/s eta 0:00:01\r\u001b[K     |█████████████████▌              | 317 kB 4.5 MB/s eta 0:00:01\r\u001b[K     |██████████████████              | 327 kB 4.5 MB/s eta 0:00:01\r\u001b[K     |██████████████████▋             | 337 kB 4.5 MB/s eta 0:00:01\r\u001b[K     |███████████████████▏            | 348 kB 4.5 MB/s eta 0:00:01\r\u001b[K     |███████████████████▊            | 358 kB 4.5 MB/s eta 0:00:01\r\u001b[K     |████████████████████▍           | 368 kB 4.5 MB/s eta 0:00:01\r\u001b[K     |█████████████████████           | 378 kB 4.5 MB/s eta 0:00:01\r\u001b[K     |█████████████████████▌          | 389 kB 4.5 MB/s eta 0:00:01\r\u001b[K     |██████████████████████          | 399 kB 4.5 MB/s eta 0:00:01\r\u001b[K     |██████████████████████▋         | 409 kB 4.5 MB/s eta 0:00:01\r\u001b[K     |███████████████████████▏        | 419 kB 4.5 MB/s eta 0:00:01\r\u001b[K     |███████████████████████▊        | 430 kB 4.5 MB/s eta 0:00:01\r\u001b[K     |████████████████████████▎       | 440 kB 4.5 MB/s eta 0:00:01\r\u001b[K     |████████████████████████▉       | 450 kB 4.5 MB/s eta 0:00:01\r\u001b[K     |█████████████████████████▍      | 460 kB 4.5 MB/s eta 0:00:01\r\u001b[K     |██████████████████████████      | 471 kB 4.5 MB/s eta 0:00:01\r\u001b[K     |██████████████████████████▌     | 481 kB 4.5 MB/s eta 0:00:01\r\u001b[K     |███████████████████████████▏    | 491 kB 4.5 MB/s eta 0:00:01\r\u001b[K     |███████████████████████████▊    | 501 kB 4.5 MB/s eta 0:00:01\r\u001b[K     |████████████████████████████▎   | 512 kB 4.5 MB/s eta 0:00:01\r\u001b[K     |████████████████████████████▉   | 522 kB 4.5 MB/s eta 0:00:01\r\u001b[K     |█████████████████████████████▍  | 532 kB 4.5 MB/s eta 0:00:01\r\u001b[K     |██████████████████████████████  | 542 kB 4.5 MB/s eta 0:00:01\r\u001b[K     |██████████████████████████████▌ | 552 kB 4.5 MB/s eta 0:00:01\r\u001b[K     |███████████████████████████████ | 563 kB 4.5 MB/s eta 0:00:01\r\u001b[K     |███████████████████████████████▋| 573 kB 4.5 MB/s eta 0:00:01\r\u001b[K     |████████████████████████████████| 580 kB 4.5 MB/s \n",
            "\u001b[?25h\u001b[?25l\r\u001b[K     |███                             | 10 kB 32.8 MB/s eta 0:00:01\r\u001b[K     |██████                          | 20 kB 40.8 MB/s eta 0:00:01\r\u001b[K     |█████████                       | 30 kB 50.2 MB/s eta 0:00:01\r\u001b[K     |████████████                    | 40 kB 54.3 MB/s eta 0:00:01\r\u001b[K     |███████████████                 | 51 kB 58.1 MB/s eta 0:00:01\r\u001b[K     |██████████████████              | 61 kB 63.1 MB/s eta 0:00:01\r\u001b[K     |█████████████████████           | 71 kB 65.7 MB/s eta 0:00:01\r\u001b[K     |████████████████████████        | 81 kB 63.3 MB/s eta 0:00:01\r\u001b[K     |███████████████████████████     | 92 kB 65.8 MB/s eta 0:00:01\r\u001b[K     |██████████████████████████████▏ | 102 kB 66.8 MB/s eta 0:00:01\r\u001b[K     |████████████████████████████████| 108 kB 66.8 MB/s \n",
            "\u001b[K     |████████████████████████████████| 203 kB 64.8 MB/s \n",
            "\u001b[K     |████████████████████████████████| 577 kB 60.0 MB/s \n",
            "\u001b[K     |████████████████████████████████| 642 kB 65.2 MB/s \n",
            "\u001b[K     |████████████████████████████████| 60.8 MB 1.2 MB/s \n",
            "\u001b[K     |████████████████████████████████| 642 kB 47.8 MB/s \n",
            "\u001b[K     |████████████████████████████████| 11.7 MB 36.6 MB/s \n",
            "\u001b[K     |█████████████▉                  | 26.3 MB 1.2 MB/s eta 0:00:28\u001b[31mERROR: Exception:\n",
            "Traceback (most recent call last):\n",
            "  File \"/root/.local/lib/python3.10/site-packages/pip/_vendor/resolvelib/resolvers.py\", line 171, in _merge_into_criterion\n",
            "    crit = self.state.criteria[name]\n",
            "KeyError: 'tflite-support'\n",
            "\n",
            "During handling of the above exception, another exception occurred:\n",
            "\n",
            "Traceback (most recent call last):\n",
            "  File \"/root/.local/lib/python3.10/site-packages/pip/_internal/cli/base_command.py\", line 189, in _main\n",
            "    status = self.run(options, args)\n",
            "  File \"/root/.local/lib/python3.10/site-packages/pip/_internal/cli/req_command.py\", line 178, in wrapper\n",
            "    return func(self, options, args)\n",
            "  File \"/root/.local/lib/python3.10/site-packages/pip/_internal/commands/install.py\", line 316, in run\n",
            "    requirement_set = resolver.resolve(\n",
            "  File \"/root/.local/lib/python3.10/site-packages/pip/_internal/resolution/resolvelib/resolver.py\", line 121, in resolve\n",
            "    self._result = resolver.resolve(\n",
            "  File \"/root/.local/lib/python3.10/site-packages/pip/_vendor/resolvelib/resolvers.py\", line 453, in resolve\n",
            "    state = resolution.resolve(requirements, max_rounds=max_rounds)\n",
            "  File \"/root/.local/lib/python3.10/site-packages/pip/_vendor/resolvelib/resolvers.py\", line 347, in resolve\n",
            "    failure_causes = self._attempt_to_pin_criterion(name, criterion)\n",
            "  File \"/root/.local/lib/python3.10/site-packages/pip/_vendor/resolvelib/resolvers.py\", line 207, in _attempt_to_pin_criterion\n",
            "    criteria = self._get_criteria_to_update(candidate)\n",
            "  File \"/root/.local/lib/python3.10/site-packages/pip/_vendor/resolvelib/resolvers.py\", line 199, in _get_criteria_to_update\n",
            "    name, crit = self._merge_into_criterion(r, parent=candidate)\n",
            "  File \"/root/.local/lib/python3.10/site-packages/pip/_vendor/resolvelib/resolvers.py\", line 173, in _merge_into_criterion\n",
            "    crit = Criterion.from_requirement(self._p, requirement, parent)\n",
            "  File \"/root/.local/lib/python3.10/site-packages/pip/_vendor/resolvelib/resolvers.py\", line 82, in from_requirement\n",
            "    if not cands:\n",
            "  File \"/root/.local/lib/python3.10/site-packages/pip/_vendor/resolvelib/structs.py\", line 124, in __bool__\n",
            "    return bool(self._sequence)\n",
            "  File \"/root/.local/lib/python3.10/site-packages/pip/_internal/resolution/resolvelib/found_candidates.py\", line 143, in __bool__\n",
            "    return any(self)\n",
            "  File \"/root/.local/lib/python3.10/site-packages/pip/_internal/resolution/resolvelib/found_candidates.py\", line 38, in _iter_built\n",
            "    candidate = func()\n",
            "  File \"/root/.local/lib/python3.10/site-packages/pip/_internal/resolution/resolvelib/factory.py\", line 167, in _make_candidate_from_link\n",
            "    self._link_candidate_cache[link] = LinkCandidate(\n",
            "  File \"/root/.local/lib/python3.10/site-packages/pip/_internal/resolution/resolvelib/candidates.py\", line 300, in __init__\n",
            "    super().__init__(\n",
            "  File \"/root/.local/lib/python3.10/site-packages/pip/_internal/resolution/resolvelib/candidates.py\", line 144, in __init__\n",
            "    self.dist = self._prepare()\n",
            "  File \"/root/.local/lib/python3.10/site-packages/pip/_internal/resolution/resolvelib/candidates.py\", line 226, in _prepare\n",
            "    dist = self._prepare_distribution()\n",
            "  File \"/root/.local/lib/python3.10/site-packages/pip/_internal/resolution/resolvelib/candidates.py\", line 311, in _prepare_distribution\n",
            "    return self._factory.preparer.prepare_linked_requirement(\n",
            "  File \"/root/.local/lib/python3.10/site-packages/pip/_internal/operations/prepare.py\", line 457, in prepare_linked_requirement\n",
            "    return self._prepare_linked_requirement(req, parallel_builds)\n",
            "  File \"/root/.local/lib/python3.10/site-packages/pip/_internal/operations/prepare.py\", line 480, in _prepare_linked_requirement\n",
            "    local_file = unpack_url(\n",
            "  File \"/root/.local/lib/python3.10/site-packages/pip/_internal/operations/prepare.py\", line 230, in unpack_url\n",
            "    file = get_http_url(\n",
            "  File \"/root/.local/lib/python3.10/site-packages/pip/_internal/operations/prepare.py\", line 108, in get_http_url\n",
            "    from_path, content_type = download(link, temp_dir.path)\n",
            "  File \"/root/.local/lib/python3.10/site-packages/pip/_internal/network/download.py\", line 163, in __call__\n",
            "    for chunk in chunks:\n",
            "  File \"/root/.local/lib/python3.10/site-packages/pip/_internal/cli/progress_bars.py\", line 163, in iter\n",
            "    self.next(len(x))  # noqa: B305\n",
            "  File \"/root/.local/lib/python3.10/site-packages/pip/_vendor/progress/__init__.py\", line 120, in next\n",
            "    self.update()\n",
            "  File \"/root/.local/lib/python3.10/site-packages/pip/_vendor/progress/bar.py\", line 83, in update\n",
            "    self.writeln(line)\n",
            "  File \"/root/.local/lib/python3.10/site-packages/pip/_vendor/progress/__init__.py\", line 101, in writeln\n",
            "    self.clearln()\n",
            "  File \"/root/.local/lib/python3.10/site-packages/pip/_vendor/progress/__init__.py\", line 90, in clearln\n",
            "    print('\\r\\x1b[K', end='', file=self.file)\n",
            "  File \"/root/.local/lib/python3.10/site-packages/pip/_internal/cli/progress_bars.py\", line 109, in handle_sigint\n",
            "    self.finish()\n",
            "  File \"/root/.local/lib/python3.10/site-packages/pip/_internal/cli/progress_bars.py\", line 99, in finish\n",
            "    super().finish()  # type: ignore\n",
            "  File \"/root/.local/lib/python3.10/site-packages/pip/_vendor/progress/__init__.py\", line 107, in finish\n",
            "    print(file=self.file)\n",
            "RuntimeError: reentrant call inside <_io.BufferedWriter name='<stdout>'>\u001b[0m\n",
            "\u001b[K"
          ]
        }
      ]
    },
    {
      "cell_type": "markdown",
      "metadata": {
        "id": "Gx1HGRoFQ54j"
      },
      "source": [
        "Import the required packages."
      ]
    },
    {
      "cell_type": "code",
      "execution_count": 4,
      "metadata": {
        "id": "XtxiUeZEiXpt",
        "outputId": "ef011b24-6ead-47c3-df6f-c5242b7b3dbe",
        "colab": {
          "base_uri": "https://localhost:8080/",
          "height": 383
        }
      },
      "outputs": [
        {
          "output_type": "error",
          "ename": "ModuleNotFoundError",
          "evalue": "No module named 'tflite_model_maker'",
          "traceback": [
            "\u001b[0;31m---------------------------------------------------------------------------\u001b[0m",
            "\u001b[0;31mModuleNotFoundError\u001b[0m                       Traceback (most recent call last)",
            "\u001b[0;32m<ipython-input-4-207eed4abe73>\u001b[0m in \u001b[0;36m<cell line: 6>\u001b[0;34m()\u001b[0m\n\u001b[1;32m      4\u001b[0m \u001b[0;32massert\u001b[0m \u001b[0mtf\u001b[0m\u001b[0;34m.\u001b[0m\u001b[0m__version__\u001b[0m\u001b[0;34m.\u001b[0m\u001b[0mstartswith\u001b[0m\u001b[0;34m(\u001b[0m\u001b[0;34m'2'\u001b[0m\u001b[0;34m)\u001b[0m\u001b[0;34m\u001b[0m\u001b[0;34m\u001b[0m\u001b[0m\n\u001b[1;32m      5\u001b[0m \u001b[0;34m\u001b[0m\u001b[0m\n\u001b[0;32m----> 6\u001b[0;31m \u001b[0;32mfrom\u001b[0m \u001b[0mtflite_model_maker\u001b[0m \u001b[0;32mimport\u001b[0m \u001b[0mmodel_spec\u001b[0m\u001b[0;34m\u001b[0m\u001b[0;34m\u001b[0m\u001b[0m\n\u001b[0m\u001b[1;32m      7\u001b[0m \u001b[0;32mfrom\u001b[0m \u001b[0mtflite_model_maker\u001b[0m \u001b[0;32mimport\u001b[0m \u001b[0mimage_classifier\u001b[0m\u001b[0;34m\u001b[0m\u001b[0;34m\u001b[0m\u001b[0m\n\u001b[1;32m      8\u001b[0m \u001b[0;32mfrom\u001b[0m \u001b[0mtflite_model_maker\u001b[0m\u001b[0;34m.\u001b[0m\u001b[0mimage_classifier\u001b[0m \u001b[0;32mimport\u001b[0m \u001b[0mDataLoader\u001b[0m\u001b[0;34m\u001b[0m\u001b[0;34m\u001b[0m\u001b[0m\n",
            "\u001b[0;31mModuleNotFoundError\u001b[0m: No module named 'tflite_model_maker'",
            "",
            "\u001b[0;31m---------------------------------------------------------------------------\u001b[0;32m\nNOTE: If your import is failing due to a missing package, you can\nmanually install dependencies using either !pip or !apt.\n\nTo view examples of installing some common dependencies, click the\n\"Open Examples\" button below.\n\u001b[0;31m---------------------------------------------------------------------------\u001b[0m\n"
          ],
          "errorDetails": {
            "actions": [
              {
                "action": "open_url",
                "actionText": "Open Examples",
                "url": "/notebooks/snippets/importing_libraries.ipynb"
              }
            ]
          }
        }
      ],
      "source": [
        "import numpy as np\n",
        "\n",
        "import tensorflow as tf\n",
        "assert tf.__version__.startswith('2')\n",
        "\n",
        "from tflite_model_maker import model_spec\n",
        "from tflite_model_maker import image_classifier\n",
        "from tflite_model_maker.image_classifier import DataLoader"
      ]
    },
    {
      "cell_type": "markdown",
      "metadata": {
        "id": "KKRaYHABpob5"
      },
      "source": [
        "## Simple End-to-End Example"
      ]
    },
    {
      "cell_type": "markdown",
      "metadata": {
        "id": "SiZZ5DHXotaW"
      },
      "source": [
        "### Get the data path\n",
        "\n",
        "Let's get some images to play with this simple end-to-end example. Hundreds of images is a good start for Model Maker while more data could achieve better accuracy."
      ]
    },
    {
      "cell_type": "code",
      "execution_count": null,
      "metadata": {
        "cellView": "form",
        "id": "3jz5x0JoskPv"
      },
      "outputs": [],
      "source": [
        "image_path = tf.keras.utils.get_file(\n",
        "      'flower_photos',\n",
        "      'https://storage.googleapis.com/download.tensorflow.org/example_images/flower_photos.tgz',\n",
        "      untar=True)"
      ]
    },
    {
      "cell_type": "markdown",
      "metadata": {
        "id": "a55MR6i6nuDm"
      },
      "source": [
        "You could replace `image_path` with your own image folders. As for uploading data to colab, you could find the upload button in the left sidebar shown in the image below with the red rectangle. Just have a try to upload a zip file and unzip it. The root file path is the current path.\n",
        "\n",
        "<img src=\"https://storage.googleapis.com/download.tensorflow.org/models/tflite/screenshots/model_maker_image_classification.png\" alt=\"Upload File\" width=\"800\" hspace=\"100\">"
      ]
    },
    {
      "cell_type": "markdown",
      "metadata": {
        "id": "NNRNv_mloS89"
      },
      "source": [
        "If you prefer not to upload your images to the cloud, you could try to run the library locally following the [guide](https://github.com/tensorflow/examples/tree/master/tensorflow_examples/lite/model_maker) in github."
      ]
    },
    {
      "cell_type": "markdown",
      "metadata": {
        "id": "w-VDriAdsowu"
      },
      "source": [
        "### Run the example\n",
        "The example just consists of 4 lines of code as shown below, each of which representing one step of the overall process.\n"
      ]
    },
    {
      "cell_type": "markdown",
      "metadata": {
        "id": "6ahtcO86tZBL"
      },
      "source": [
        "1.   Load input data specific to an on-device ML app. Split it to training data and testing data."
      ]
    },
    {
      "cell_type": "code",
      "execution_count": null,
      "metadata": {
        "id": "lANoNS_gtdH1"
      },
      "outputs": [],
      "source": [
        "data = DataLoader.from_folder(image_path)\n",
        "train_data, test_data = data.split(0.9)"
      ]
    },
    {
      "cell_type": "markdown",
      "metadata": {
        "id": "Y_9IWyIztuRF"
      },
      "source": [
        "2. Customize the TensorFlow model."
      ]
    },
    {
      "cell_type": "code",
      "execution_count": null,
      "metadata": {
        "id": "yRXMZbrwtyRD"
      },
      "outputs": [],
      "source": [
        "model = image_classifier.create(train_data)"
      ]
    },
    {
      "cell_type": "markdown",
      "metadata": {
        "id": "oxU2fDr-t2Ya"
      },
      "source": [
        "3. Evaluate the model."
      ]
    },
    {
      "cell_type": "code",
      "execution_count": null,
      "metadata": {
        "id": "wQr02VxJt6Cs"
      },
      "outputs": [],
      "source": [
        "loss, accuracy = model.evaluate(test_data)"
      ]
    },
    {
      "cell_type": "markdown",
      "metadata": {
        "id": "eVZw9zU8t84y"
      },
      "source": [
        "4.  Export to TensorFlow Lite model.\n",
        "You could download it in the left sidebar same as the uploading part for your own use."
      ]
    },
    {
      "cell_type": "code",
      "execution_count": null,
      "metadata": {
        "id": "Zb-eIzfluCoa"
      },
      "outputs": [],
      "source": [
        "model.export(export_dir='.', with_metadata=False)"
      ]
    },
    {
      "cell_type": "markdown",
      "metadata": {
        "id": "pyju1qc_v-wy"
      },
      "source": [
        "After this simple 4 steps, we can now download the model and label files, and continue to the next step in the [codelab](https://codelabs.developers.google.com/codelabs/recognize-flowers-with-tensorflow-on-android/#4).\n",
        "\n",
        "For a more comprehensive guide to TFLite Model Maker, please refer to this [notebook](https://colab.sandbox.google.com/github/tensorflow/examples/blob/master/tensorflow_examples/lite/model_maker/demo/image_classification.ipynb) and its [documentation](https://github.com/tensorflow/examples/tree/master/tensorflow_examples/lite/model_maker).\n"
      ]
    }
  ],
  "metadata": {
    "accelerator": "GPU",
    "colab": {
      "name": "Flower_Classification_with_TFLite_Model_Maker.ipynb",
      "provenance": [],
      "gpuType": "T4"
    },
    "kernelspec": {
      "display_name": "Python 3",
      "name": "python3"
    }
  },
  "nbformat": 4,
  "nbformat_minor": 0
}